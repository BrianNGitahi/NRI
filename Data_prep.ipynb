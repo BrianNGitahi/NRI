{
 "cells": [
  {
   "cell_type": "code",
   "execution_count": 185,
   "metadata": {},
   "outputs": [],
   "source": [
    "import numpy as np\n",
    "import matplotlib.pyplot as plt\n",
    "import torch\n",
    "import seaborn \n",
    "import scipy as sp\n",
    "from torch.utils.data.dataset import TensorDataset\n",
    "from torch.utils.data import DataLoader\n",
    "import torch.nn.functional as F\n",
    "from torch.autograd import Variable"
   ]
  },
  {
   "cell_type": "code",
   "execution_count": 115,
   "metadata": {},
   "outputs": [],
   "source": [
    "# check the current datasets shape and subdivision:\n"
   ]
  },
  {
   "cell_type": "code",
   "execution_count": 116,
   "metadata": {},
   "outputs": [],
   "source": [
    "# Things I found out I need to know:\n",
    "# How they load the data: they use load_data function defined in utils and split it into \n",
    "# train,validation and test sets"
   ]
  },
  {
   "cell_type": "code",
   "execution_count": 186,
   "metadata": {},
   "outputs": [],
   "source": [
    "# braek down load_data function:\n",
    "# 1: loading the raw data\n",
    "\n",
    "suffix = '_springs5'\n",
    "\n",
    "loc_train = np.load('data/loc_train' + suffix + '.npy')\n",
    "vel_train = np.load('data/vel_train' + suffix + '.npy')\n",
    "edges_train = np.load('data/edges_train' + suffix + '.npy')\n",
    "\n",
    "loc_valid = np.load('data/loc_valid' + suffix + '.npy')\n",
    "vel_valid = np.load('data/vel_valid' + suffix + '.npy')\n",
    "edges_valid = np.load('data/edges_valid' + suffix + '.npy')\n",
    "\n",
    "loc_test = np.load('data/loc_test' + suffix + '.npy')\n",
    "vel_test = np.load('data/vel_test' + suffix + '.npy')\n",
    "edges_test = np.load('data/edges_test' + suffix + '.npy')"
   ]
  },
  {
   "cell_type": "code",
   "execution_count": 187,
   "metadata": {},
   "outputs": [
    {
     "name": "stdout",
     "output_type": "stream",
     "text": [
      "(2500, 49, 2, 5)\n",
      "(1000, 49, 2, 5)\n",
      "(1000, 99, 2, 5)\n"
     ]
    }
   ],
   "source": [
    "print(loc_train.shape)\n",
    "print(loc_valid.shape)\n",
    "print(loc_test.shape)\n",
    "\n",
    "# 2500 samples, 49 timesteps, x & y positions for 5 particles"
   ]
  },
  {
   "cell_type": "code",
   "execution_count": 121,
   "metadata": {},
   "outputs": [],
   "source": [
    "# for SLEAP, we have:\n",
    "# 1 sample, 63033 frames, x & y positions for 2 mice"
   ]
  },
  {
   "cell_type": "code",
   "execution_count": 188,
   "metadata": {},
   "outputs": [
    {
     "data": {
      "text/plain": [
       "(2500, 49, 2, 5)"
      ]
     },
     "execution_count": 188,
     "metadata": {},
     "output_type": "execute_result"
    }
   ],
   "source": [
    "vel_train.shape"
   ]
  },
  {
   "cell_type": "code",
   "execution_count": 189,
   "metadata": {},
   "outputs": [
    {
     "data": {
      "text/plain": [
       "(2500, 5, 5)"
      ]
     },
     "execution_count": 189,
     "metadata": {},
     "output_type": "execute_result"
    }
   ],
   "source": [
    "edges_train.shape"
   ]
  },
  {
   "cell_type": "code",
   "execution_count": 190,
   "metadata": {},
   "outputs": [
    {
     "data": {
      "text/plain": [
       "array([[0., 0., 0., 0., 1.],\n",
       "       [0., 0., 1., 0., 0.],\n",
       "       [0., 1., 0., 1., 0.],\n",
       "       [0., 0., 1., 0., 0.],\n",
       "       [1., 0., 0., 0., 0.]])"
      ]
     },
     "execution_count": 190,
     "metadata": {},
     "output_type": "execute_result"
    }
   ],
   "source": [
    "edges_train[0,:,:]"
   ]
  },
  {
   "cell_type": "code",
   "execution_count": 191,
   "metadata": {},
   "outputs": [
    {
     "data": {
      "text/plain": [
       "(1000, 5, 5)"
      ]
     },
     "execution_count": 191,
     "metadata": {},
     "output_type": "execute_result"
    }
   ],
   "source": [
    "edges_test.shape"
   ]
  },
  {
   "cell_type": "code",
   "execution_count": 192,
   "metadata": {},
   "outputs": [
    {
     "data": {
      "text/plain": [
       "numpy.ndarray"
      ]
     },
     "execution_count": 192,
     "metadata": {},
     "output_type": "execute_result"
    }
   ],
   "source": [
    "type(edges_train)"
   ]
  },
  {
   "cell_type": "code",
   "execution_count": 193,
   "metadata": {},
   "outputs": [
    {
     "data": {
      "text/plain": [
       "np.float64(1.0)"
      ]
     },
     "execution_count": 193,
     "metadata": {},
     "output_type": "execute_result"
    }
   ],
   "source": [
    "edges_train[0,0,4]"
   ]
  },
  {
   "cell_type": "code",
   "execution_count": 194,
   "metadata": {},
   "outputs": [
    {
     "data": {
      "image/png": "[encoded data removed]",
      "text/plain": [
       "<Figure size 640x480 with 2 Axes>"
      ]
     },
     "metadata": {},
     "output_type": "display_data"
    }
   ],
   "source": [
    "plt.imshow(edges_train[2], cmap='gray')\n",
    "plt.title(\"edges_train[0] as matrix\")\n",
    "plt.colorbar()\n",
    "plt.show()"
   ]
  },
  {
   "cell_type": "code",
   "execution_count": 195,
   "metadata": {},
   "outputs": [],
   "source": [
    "#2: preprocessing it\n",
    "   # [num_samples, num_timesteps, num_dims, num_atoms]\n",
    "num_atoms = loc_train.shape[3]\n",
    "\n",
    "loc_max = loc_train.max()\n",
    "loc_min = loc_train.min()\n",
    "vel_max = vel_train.max()\n",
    "vel_min = vel_train.min()\n",
    "\n",
    "# Normalize to [-1, 1]\n",
    "loc_train = (loc_train - loc_min) * 2 / (loc_max - loc_min) - 1\n",
    "vel_train = (vel_train - vel_min) * 2 / (vel_max - vel_min) - 1\n",
    "\n",
    "loc_valid = (loc_valid - loc_min) * 2 / (loc_max - loc_min) - 1\n",
    "vel_valid = (vel_valid - vel_min) * 2 / (vel_max - vel_min) - 1\n",
    "\n",
    "loc_test = (loc_test - loc_min) * 2 / (loc_max - loc_min) - 1\n",
    "vel_test = (vel_test - vel_min) * 2 / (vel_max - vel_min) - 1\n",
    "\n",
    "# Reshape to: [num_sims, num_atoms, num_timesteps, num_dims]\n",
    "loc_train = np.transpose(loc_train, [0, 3, 1, 2])\n",
    "vel_train = np.transpose(vel_train, [0, 3, 1, 2])\n",
    "feat_train = np.concatenate([loc_train, vel_train], axis=3)\n",
    "edges_train = np.reshape(edges_train, [-1, num_atoms ** 2])\n",
    "edges_train = np.array((edges_train + 1) / 2, dtype=np.int64)\n",
    "\n",
    "loc_valid = np.transpose(loc_valid, [0, 3, 1, 2])\n",
    "vel_valid = np.transpose(vel_valid, [0, 3, 1, 2])\n",
    "feat_valid = np.concatenate([loc_valid, vel_valid], axis=3)\n",
    "edges_valid = np.reshape(edges_valid, [-1, num_atoms ** 2])\n",
    "edges_valid = np.array((edges_valid + 1) / 2, dtype=np.int64)\n",
    "\n",
    "loc_test = np.transpose(loc_test, [0, 3, 1, 2])\n",
    "vel_test = np.transpose(vel_test, [0, 3, 1, 2])\n",
    "feat_test = np.concatenate([loc_test, vel_test], axis=3)\n",
    "edges_test = np.reshape(edges_test, [-1, num_atoms ** 2])\n",
    "edges_test = np.array((edges_test + 1) / 2, dtype=np.int64)\n",
    "\n",
    "feat_train = torch.FloatTensor(feat_train)\n",
    "edges_train = torch.LongTensor(edges_train)\n",
    "feat_valid = torch.FloatTensor(feat_valid)\n",
    "edges_valid = torch.LongTensor(edges_valid)\n",
    "feat_test = torch.FloatTensor(feat_test)\n",
    "edges_test = torch.LongTensor(edges_test)"
   ]
  },
  {
   "cell_type": "code",
   "execution_count": 196,
   "metadata": {},
   "outputs": [
    {
     "data": {
      "text/plain": [
       "tensor(0)"
      ]
     },
     "execution_count": 196,
     "metadata": {},
     "output_type": "execute_result"
    }
   ],
   "source": [
    "edges_train[0,0]"
   ]
  },
  {
   "cell_type": "code",
   "execution_count": 197,
   "metadata": {},
   "outputs": [
    {
     "data": {
      "text/plain": [
       "(2500, 5, 49, 2)"
      ]
     },
     "execution_count": 197,
     "metadata": {},
     "output_type": "execute_result"
    }
   ],
   "source": [
    "loc_train.shape"
   ]
  },
  {
   "cell_type": "code",
   "execution_count": 198,
   "metadata": {},
   "outputs": [
    {
     "data": {
      "text/plain": [
       "torch.Size([2500, 25])"
      ]
     },
     "execution_count": 198,
     "metadata": {},
     "output_type": "execute_result"
    }
   ],
   "source": [
    "edges_train.shape"
   ]
  },
  {
   "cell_type": "code",
   "execution_count": 199,
   "metadata": {},
   "outputs": [],
   "source": [
    "# Exclude self edges: np.eye is diagonal matrix of ones, np.ravel..\n",
    "# converts 2D indices to 1D flattened indices  suitable for indexing\n",
    "# the flattened matrices edges_train etc.\n",
    "off_diag_idx = np.ravel_multi_index(\n",
    "    np.where(np.ones((num_atoms, num_atoms)) - np.eye(num_atoms)),\n",
    "[num_atoms, num_atoms])\n",
    "edges_train = edges_train[:, off_diag_idx]\n",
    "edges_valid = edges_valid[:, off_diag_idx]\n",
    "edges_test = edges_test[:, off_diag_idx]"
   ]
  },
  {
   "cell_type": "code",
   "execution_count": 216,
   "metadata": {},
   "outputs": [
    {
     "data": {
      "text/plain": [
       "torch.Size([2500, 20])"
      ]
     },
     "execution_count": 216,
     "metadata": {},
     "output_type": "execute_result"
    }
   ],
   "source": [
    "edges_train.shape"
   ]
  },
  {
   "cell_type": "code",
   "execution_count": 200,
   "metadata": {},
   "outputs": [],
   "source": [
    "# then convert them into tensor datasets and\n",
    "# wraps the datasets to allow batching, parallel loading etc.\n",
    "\n",
    "batch_size = 64\n",
    "\n",
    "train_data = TensorDataset(feat_train, edges_train)\n",
    "valid_data = TensorDataset(feat_valid, edges_valid)\n",
    "test_data = TensorDataset(feat_test, edges_test)\n",
    "\n",
    "train_data_loader = DataLoader(train_data, batch_size=batch_size)\n",
    "valid_data_loader = DataLoader(valid_data, batch_size=batch_size)\n",
    "test_data_loader = DataLoader(test_data, batch_size=batch_size)\n"
   ]
  },
  {
   "cell_type": "code",
   "execution_count": 201,
   "metadata": {},
   "outputs": [
    {
     "data": {
      "text/plain": [
       "{'tensors': tuple[torch.Tensor, ...]}"
      ]
     },
     "execution_count": 201,
     "metadata": {},
     "output_type": "execute_result"
    }
   ],
   "source": [
    "train_data.__annotations__"
   ]
  },
  {
   "cell_type": "code",
   "execution_count": 202,
   "metadata": {},
   "outputs": [
    {
     "data": {
      "text/plain": [
       "torch.utils.data.dataloader.DataLoader"
      ]
     },
     "execution_count": 202,
     "metadata": {},
     "output_type": "execute_result"
    }
   ],
   "source": [
    "train_data_loader.__class__"
   ]
  },
  {
   "cell_type": "code",
   "execution_count": 215,
   "metadata": {},
   "outputs": [
    {
     "data": {
      "text/plain": [
       "<function DataLoader.__sizeof__()>"
      ]
     },
     "execution_count": 215,
     "metadata": {},
     "output_type": "execute_result"
    }
   ],
   "source": [
    "train_data_loader.__sizeof__"
   ]
  },
  {
   "cell_type": "code",
   "execution_count": 203,
   "metadata": {},
   "outputs": [
    {
     "data": {
      "text/plain": [
       "tensor(0)"
      ]
     },
     "execution_count": 203,
     "metadata": {},
     "output_type": "execute_result"
    }
   ],
   "source": [
    "edges_train[0,8]"
   ]
  },
  {
   "cell_type": "code",
   "execution_count": 204,
   "metadata": {},
   "outputs": [],
   "source": [
    "# ok so for the SLEAP data we have loc, vel but how and where do we get edges from?\n",
    "# we can start with assumptions - assume both mice are interacting with each other so 2,2 \n",
    "# matrix with 1s on off diagonal for each of the 1 sample? we have"
   ]
  },
  {
   "cell_type": "code",
   "execution_count": 205,
   "metadata": {},
   "outputs": [],
   "source": [
    "# something to note here: \n",
    "    # 1. so we have similar data except instead of 5 atoms, we have 2 mice\n",
    "    # 2. we also have only one sample? so far instead of 2500 like in the springs dataset\n",
    "        # ok so even if we have only 2 mice we can still use NRI as a proof of concept \n",
    "        # to see if it works and to explicity model pairwaise interactions"
   ]
  },
  {
   "cell_type": "code",
   "execution_count": 206,
   "metadata": {},
   "outputs": [],
   "source": [
    "# make raw dataset from SLEAP data to be passed into the load_data function:\n",
    "\n",
    "# training timesteps: 1-20k\n",
    "# valid timesteps: 39k -45k\n",
    "# test timesteps: 45k - 51k\n",
    "\n",
    "\n",
    "# check if you can use the function generate dataset to do this part"
   ]
  },
  {
   "cell_type": "code",
   "execution_count": 207,
   "metadata": {},
   "outputs": [
    {
     "data": {
      "text/plain": [
       "(63033, 2, 2)"
      ]
     },
     "execution_count": 207,
     "metadata": {},
     "output_type": "execute_result"
    }
   ],
   "source": [
    "locations = np.load('thorax_locations.npy')\n",
    "locations.shape"
   ]
  },
  {
   "cell_type": "code",
   "execution_count": 208,
   "metadata": {},
   "outputs": [
    {
     "data": {
      "text/plain": [
       "(1, 63033, 2, 2)"
      ]
     },
     "execution_count": 208,
     "metadata": {},
     "output_type": "execute_result"
    }
   ],
   "source": [
    "# reshpa the data to\n",
    "locations = np.reshape(locations, (1,63033,2,2))\n",
    "locations.shape"
   ]
  },
  {
   "cell_type": "code",
   "execution_count": 209,
   "metadata": {},
   "outputs": [
    {
     "data": {
      "text/plain": [
       "(63033, 2, 2)"
      ]
     },
     "execution_count": 209,
     "metadata": {},
     "output_type": "execute_result"
    }
   ],
   "source": [
    "# load velocities\n",
    "velocities = np.load('velocities.npy')\n",
    "velocities.shape"
   ]
  },
  {
   "cell_type": "code",
   "execution_count": 210,
   "metadata": {},
   "outputs": [
    {
     "data": {
      "text/plain": [
       "(1, 63033, 2, 2)"
      ]
     },
     "execution_count": 210,
     "metadata": {},
     "output_type": "execute_result"
    }
   ],
   "source": [
    "# reshape velocities\n",
    "velocities = np.reshape(velocities, (1,63033,2,2))\n",
    "velocities.shape"
   ]
  },
  {
   "cell_type": "code",
   "execution_count": 211,
   "metadata": {},
   "outputs": [],
   "source": [
    "# split into train, valid, test\n",
    "locations_train = locations[:,:20000,:,:]\n",
    "locations_valid = locations[:,39000:45000,:,:]\n",
    "locations_test = locations[:,45000:51000,:,:]"
   ]
  },
  {
   "cell_type": "markdown",
   "metadata": {},
   "source": []
  },
  {
   "cell_type": "code",
   "execution_count": 212,
   "metadata": {},
   "outputs": [],
   "source": [
    "velocities_train = velocities[:,:20000,:,:]\n",
    "velocities_valid = velocities[:,39000:45000,:,:]\n",
    "velocities_test = velocities[:,45000:51000,:,:]"
   ]
  },
  {
   "cell_type": "code",
   "execution_count": 213,
   "metadata": {},
   "outputs": [
    {
     "data": {
      "text/plain": [
       "(1, 6000, 2, 2)"
      ]
     },
     "execution_count": 213,
     "metadata": {},
     "output_type": "execute_result"
    }
   ],
   "source": [
    "velocities_valid.shape"
   ]
  },
  {
   "cell_type": "code",
   "execution_count": null,
   "metadata": {},
   "outputs": [],
   "source": []
  }
 ],
 "metadata": {
  "kernelspec": {
   "display_name": "Python 3",
   "language": "python",
   "name": "python3"
  },
  "language_info": {
   "codemirror_mode": {
    "name": "ipython",
    "version": 3
   },
   "file_extension": ".py",
   "mimetype": "text/x-python",
   "name": "python",
   "nbconvert_exporter": "python",
   "pygments_lexer": "ipython3",
   "version": "3.13.2"
  }
 },
 "nbformat": 4,
 "nbformat_minor": 2
}
