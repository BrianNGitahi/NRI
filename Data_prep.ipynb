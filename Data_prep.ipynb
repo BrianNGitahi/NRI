{
 "cells": [
  {
   "cell_type": "code",
   "execution_count": 1,
   "metadata": {},
   "outputs": [],
   "source": [
    "import numpy as np\n",
    "import matplotlib.pyplot as plt\n",
    "import torch\n",
    "import seaborn \n",
    "import scipy as sp"
   ]
  },
  {
   "cell_type": "code",
   "execution_count": null,
   "metadata": {},
   "outputs": [],
   "source": [
    "# check the current datasets shape and subdivision:\n"
   ]
  },
  {
   "cell_type": "code",
   "execution_count": null,
   "metadata": {},
   "outputs": [],
   "source": [
    "# Things I found out I need to know:\n",
    "# How they load the data: they use load_data function defined in utils and split it into \n",
    "# train,validation and test sets"
   ]
  },
  {
   "cell_type": "code",
   "execution_count": 4,
   "metadata": {},
   "outputs": [],
   "source": [
    "# braek down load_data function:\n",
    "# 1: loading the raw data\n",
    "\n",
    "suffix = '_springs5'\n",
    "\n",
    "loc_train = np.load('data/loc_train' + suffix + '.npy')\n",
    "vel_train = np.load('data/vel_train' + suffix + '.npy')\n",
    "edges_train = np.load('data/edges_train' + suffix + '.npy')\n",
    "\n",
    "loc_valid = np.load('data/loc_valid' + suffix + '.npy')\n",
    "vel_valid = np.load('data/vel_valid' + suffix + '.npy')\n",
    "edges_valid = np.load('data/edges_valid' + suffix + '.npy')\n",
    "\n",
    "loc_test = np.load('data/loc_test' + suffix + '.npy')\n",
    "vel_test = np.load('data/vel_test' + suffix + '.npy')\n",
    "edges_test = np.load('data/edges_test' + suffix + '.npy')"
   ]
  },
  {
   "cell_type": "code",
   "execution_count": 5,
   "metadata": {},
   "outputs": [
    {
     "data": {
      "text/plain": [
       "(2500, 49, 2, 5)"
      ]
     },
     "execution_count": 5,
     "metadata": {},
     "output_type": "execute_result"
    }
   ],
   "source": [
    "loc_train.shape"
   ]
  },
  {
   "cell_type": "code",
   "execution_count": null,
   "metadata": {},
   "outputs": [
    {
     "data": {
      "text/plain": [
       "np.float64(4.43237779330891)"
      ]
     },
     "execution_count": 6,
     "metadata": {},
     "output_type": "execute_result"
    }
   ],
   "source": []
  },
  {
   "cell_type": "code",
   "execution_count": 8,
   "metadata": {},
   "outputs": [],
   "source": [
    "#2: preprocessing it\n",
    "   # [num_samples, num_timesteps, num_dims, num_atoms]\n",
    "num_atoms = loc_train.shape[3]\n",
    "\n",
    "loc_max = loc_train.max()\n",
    "loc_min = loc_train.min()\n",
    "vel_max = vel_train.max()\n",
    "vel_min = vel_train.min()\n",
    "\n",
    "# Normalize to [-1, 1]\n",
    "loc_train = (loc_train - loc_min) * 2 / (loc_max - loc_min) - 1\n",
    "vel_train = (vel_train - vel_min) * 2 / (vel_max - vel_min) - 1\n",
    "\n",
    "loc_valid = (loc_valid - loc_min) * 2 / (loc_max - loc_min) - 1\n",
    "vel_valid = (vel_valid - vel_min) * 2 / (vel_max - vel_min) - 1\n",
    "\n",
    "loc_test = (loc_test - loc_min) * 2 / (loc_max - loc_min) - 1\n",
    "vel_test = (vel_test - vel_min) * 2 / (vel_max - vel_min) - 1\n",
    "\n",
    "# Reshape to: [num_sims, num_atoms, num_timesteps, num_dims]\n",
    "loc_train = np.transpose(loc_train, [0, 3, 1, 2])\n",
    "vel_train = np.transpose(vel_train, [0, 3, 1, 2])\n",
    "feat_train = np.concatenate([loc_train, vel_train], axis=3)\n",
    "edges_train = np.reshape(edges_train, [-1, num_atoms ** 2])\n",
    "edges_train = np.array((edges_train + 1) / 2, dtype=np.int64)\n",
    "\n",
    "loc_valid = np.transpose(loc_valid, [0, 3, 1, 2])\n",
    "vel_valid = np.transpose(vel_valid, [0, 3, 1, 2])\n",
    "feat_valid = np.concatenate([loc_valid, vel_valid], axis=3)\n",
    "edges_valid = np.reshape(edges_valid, [-1, num_atoms ** 2])\n",
    "edges_valid = np.array((edges_valid + 1) / 2, dtype=np.int64)\n",
    "\n",
    "loc_test = np.transpose(loc_test, [0, 3, 1, 2])\n",
    "vel_test = np.transpose(vel_test, [0, 3, 1, 2])\n",
    "feat_test = np.concatenate([loc_test, vel_test], axis=3)\n",
    "edges_test = np.reshape(edges_test, [-1, num_atoms ** 2])\n",
    "edges_test = np.array((edges_test + 1) / 2, dtype=np.int64)\n",
    "\n",
    "feat_train = torch.FloatTensor(feat_train)\n",
    "edges_train = torch.LongTensor(edges_train)\n",
    "feat_valid = torch.FloatTensor(feat_valid)\n",
    "edges_valid = torch.LongTensor(edges_valid)\n",
    "feat_test = torch.FloatTensor(feat_test)\n",
    "edges_test = torch.LongTensor(edges_test)"
   ]
  },
  {
   "cell_type": "code",
   "execution_count": 10,
   "metadata": {},
   "outputs": [
    {
     "data": {
      "text/plain": [
       "(2500, 5, 49, 2)"
      ]
     },
     "execution_count": 10,
     "metadata": {},
     "output_type": "execute_result"
    }
   ],
   "source": [
    "loc_train.shape"
   ]
  },
  {
   "cell_type": "code",
   "execution_count": 11,
   "metadata": {},
   "outputs": [
    {
     "data": {
      "text/plain": [
       "torch.Size([2500, 25])"
      ]
     },
     "execution_count": 11,
     "metadata": {},
     "output_type": "execute_result"
    }
   ],
   "source": [
    "edges_train.shape"
   ]
  },
  {
   "cell_type": "code",
   "execution_count": 12,
   "metadata": {},
   "outputs": [],
   "source": [
    "# Exclude self edges: np.eye is diagonal matrix of ones, np.ravel..\n",
    "# converts 2D indices to 1D flattened indices  suitable for indexing\n",
    "# the flattened matrices edges_train etc.\n",
    "off_diag_idx = np.ravel_multi_index(\n",
    "    np.where(np.ones((num_atoms, num_atoms)) - np.eye(num_atoms)),\n",
    "[num_atoms, num_atoms])\n",
    "edges_train = edges_train[:, off_diag_idx]\n",
    "edges_valid = edges_valid[:, off_diag_idx]\n",
    "edges_test = edges_test[:, off_diag_idx]"
   ]
  },
  {
   "cell_type": "code",
   "execution_count": null,
   "metadata": {},
   "outputs": [],
   "source": []
  }
 ],
 "metadata": {
  "kernelspec": {
   "display_name": "Python 3",
   "language": "python",
   "name": "python3"
  },
  "language_info": {
   "codemirror_mode": {
    "name": "ipython",
    "version": 3
   },
   "file_extension": ".py",
   "mimetype": "text/x-python",
   "name": "python",
   "nbconvert_exporter": "python",
   "pygments_lexer": "ipython3",
   "version": "3.13.2"
  }
 },
 "nbformat": 4,
 "nbformat_minor": 2
}
