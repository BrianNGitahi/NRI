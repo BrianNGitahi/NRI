{
 "cells": [
  {
   "cell_type": "code",
   "execution_count": 3,
   "metadata": {},
   "outputs": [],
   "source": [
    "import numpy as np\n",
    "import matplotlib.pyplot as plt\n",
    "import torch\n",
    "import seaborn \n",
    "import scipy as sp\n",
    "from torch.utils.data.dataset import TensorDataset\n",
    "from torch.utils.data import DataLoader\n",
    "import torch.nn.functional as F\n",
    "from torch.autograd import Variable\n",
    "from utils import *"
   ]
  },
  {
   "cell_type": "code",
   "execution_count": 4,
   "metadata": {},
   "outputs": [
    {
     "name": "stdout",
     "output_type": "stream",
     "text": [
      "(1, 63033, 2, 2)\n",
      "(1, 63033, 2, 2)\n"
     ]
    }
   ],
   "source": [
    "# load the locations and velocities\n",
    "locations = np.load('thorax_locations.npy')\n",
    "locations = np.reshape(locations, (1,63033,2,2))\n",
    "print(locations.shape)\n",
    "\n",
    "# load and reshape velocities\n",
    "velocities = np.load('velocities.npy')\n",
    "velocities = np.reshape(velocities, (1,63033,2,2))\n",
    "print(velocities.shape)"
   ]
  },
  {
   "cell_type": "code",
   "execution_count": 5,
   "metadata": {},
   "outputs": [],
   "source": [
    "# split into train, valid, test\n",
    "locations_train = locations[:,:20000,:,:]\n",
    "locations_valid = locations[:,39000:45000,:,:]\n",
    "locations_test = locations[:,45000:51000,:,:]\n",
    "\n",
    "velocities_train = velocities[:,:20000,:,:]\n",
    "velocities_valid = velocities[:,39000:45000,:,:]\n",
    "velocities_test = velocities[:,45000:51000,:,:]"
   ]
  },
  {
   "cell_type": "code",
   "execution_count": 6,
   "metadata": {},
   "outputs": [
    {
     "data": {
      "text/plain": [
       "(1, 20000, 2, 2)"
      ]
     },
     "execution_count": 6,
     "metadata": {},
     "output_type": "execute_result"
    }
   ],
   "source": [
    "locations_train.shape"
   ]
  },
  {
   "cell_type": "code",
   "execution_count": 7,
   "metadata": {},
   "outputs": [
    {
     "data": {
      "text/plain": [
       "(20000,)"
      ]
     },
     "execution_count": 7,
     "metadata": {},
     "output_type": "execute_result"
    }
   ],
   "source": [
    "locations_train[0,:,0,0].shape"
   ]
  },
  {
   "cell_type": "code",
   "execution_count": 8,
   "metadata": {},
   "outputs": [
    {
     "name": "stdout",
     "output_type": "stream",
     "text": [
      "(63033,)\n",
      "170.30845452464433\n",
      "78.25640579578305\n",
      "4.422176746248456\n",
      "422.4069072773607\n"
     ]
    }
   ],
   "source": [
    "# prededfine the threshold for interaction -- minimum distance\n",
    "x = np.sqrt((locations[0,:,0,0]-locations[0,:,0,1])**2 + (locations[0,:,1,0] - locations[0,:,1,1])**2)\n",
    "print(x.shape)\n",
    "print(x.mean())\n",
    "print(x.std())\n",
    "print(x.min())\n",
    "print(x.max())\n"
   ]
  },
  {
   "cell_type": "code",
   "execution_count": null,
   "metadata": {},
   "outputs": [],
   "source": [
    "def construct_edges(locs, threshold=50, batch_size = 50):\n",
    "    \n",
    "    # define edges based on presence of interaction in each batch\n",
    "    edges_present = np.array([[0,1],[1,0]], dtype=float)\n",
    "    edges_absent = np.array([[0,0],[0,0]], dtype=float)\n",
    "    edge_matrices = []\n",
    "\n",
    "    n_present = 0\n",
    "    \n",
    "    for i in range(0,locs.shape[1],batch_size):\n",
    "        # get the euclidean distance between the 2 mouses locations\n",
    "        x2 = (locs[0,i:i+batch_size,0,0] - locs[0,i:i+batch_size,0,1])**2\n",
    "        y2 = (locs[0,i:i+batch_size,1,0] - locs[0,i:i+batch_size,1,1])**2\n",
    "        dist =  np.sqrt(x2 + y2)\n",
    "        \n",
    "        # check against the threshold if there's at least 1 frame where they're 'close'\n",
    "        count = np.sum(dist<threshold).item()\n",
    "        \n",
    "        if count>=1:\n",
    "            define_edges = edges_present\n",
    "            n_present +=1  \n",
    "        else:\n",
    "            define_edges = edges_absent\n",
    "        \n",
    "        edge_matrices.append(define_edges)\n",
    "        \n",
    "    edge_matrices = np.stack(edge_matrices)\n",
    "    print(\"shape of edge matrices:\", edge_matrices.shape)\n",
    "    print(\"number of batches with interaction:\", n_present)\n",
    "    \n",
    "    return edge_matrices"
   ]
  },
  {
   "cell_type": "code",
   "execution_count": null,
   "metadata": {},
   "outputs": [],
   "source": [
    "def dynamic_load():\n",
    "    \n",
    "    # load the locations and velocities\n",
    "    locations = np.load('thorax_locations.npy')\n",
    "    locations = np.reshape(locations, (1,63033,2,2))\n",
    "    print(\"locations.shape at start\",locations.shape)\n",
    "    \n",
    "    velocities = np.load('velocities.npy')\n",
    "    velocities = np.reshape(velocities, (1,63033,2,2))\n",
    "    print(\"velocities.shape at start\", velocities.shape)\n",
    "    \n",
    "    # split into train, valid, test\n",
    "    locations_train = locations[:,:20000,:,:]\n",
    "    locations_valid = locations[:,39000:45000,:,:]\n",
    "    locations_test = locations[:,45000:51000,:,:]\n",
    "    \n",
    "    velocities_train = velocities[:,:20000,:,:]\n",
    "    velocities_valid = velocities[:,39000:45000,:,:]\n",
    "    velocities_test = velocities[:,45000:51000,:,:]\n",
    "    \n",
    "    # construct the edge matrices\n",
    "    formatted_edges_train = construct_edges(locations_train)\n",
    "    formatted_edges_valid = construct_edges(locations_valid)\n",
    "    formatted_edges_test = construct_edges(locations_test)\n",
    "\n",
    "    # reformatting to allow for batch sizes bigger than 1\n",
    "    formatted_locs_train = batch_ready(locations_train)\n",
    "    formatted_locs_valid = batch_ready(locations_valid)\n",
    "    formatted_locs_test = batch_ready(locations_test)\n",
    "\n",
    "    formatted_vel_train = batch_ready(velocities_train)\n",
    "    formatted_vel_valid = batch_ready(velocities_valid)\n",
    "    formatted_vel_test = batch_ready(velocities_test)\n",
    "    \n",
    "    print(\"formatted edges_train.shape\",formatted_edges_train.shape)\n",
    "    print(\"formatted edges_valid.shape\",formatted_edges_valid.shape)\n",
    "    print(\"formatted edges_test.shape\",formatted_edges_test.shape)\n",
    "    \n",
    "    # combined into list for easy output\n",
    "    locs_list = [formatted_locs_train,formatted_locs_valid,formatted_locs_test]\n",
    "    vel_list = [formatted_vel_train,formatted_vel_valid,formatted_vel_test]\n",
    "    edges_list = [formatted_edges_train,formatted_edges_valid,formatted_edges_test]\n",
    "    \n",
    "    return locs_list, vel_list, edges_list\n"
   ]
  },
  {
   "cell_type": "code",
   "execution_count": 15,
   "metadata": {},
   "outputs": [
    {
     "name": "stdout",
     "output_type": "stream",
     "text": [
      "shape of edge matrices: (120, 2, 2)\n",
      "number of batches with interaction: 11\n"
     ]
    }
   ],
   "source": [
    "edge_train_ = construct_edges(locations_valid)"
   ]
  },
  {
   "cell_type": "code",
   "execution_count": 11,
   "metadata": {},
   "outputs": [
    {
     "data": {
      "text/plain": [
       "400.0"
      ]
     },
     "execution_count": 11,
     "metadata": {},
     "output_type": "execute_result"
    }
   ],
   "source": [
    "locations_train.shape[1]/50"
   ]
  },
  {
   "cell_type": "code",
   "execution_count": 13,
   "metadata": {},
   "outputs": [],
   "source": [
    "quote = 5\n",
    "\n",
    "if quote ==4:\n",
    "    print('yes')"
   ]
  },
  {
   "cell_type": "code",
   "execution_count": null,
   "metadata": {},
   "outputs": [],
   "source": []
  }
 ],
 "metadata": {
  "kernelspec": {
   "display_name": "Python 3",
   "language": "python",
   "name": "python3"
  },
  "language_info": {
   "codemirror_mode": {
    "name": "ipython",
    "version": 3
   },
   "file_extension": ".py",
   "mimetype": "text/x-python",
   "name": "python",
   "nbconvert_exporter": "python",
   "pygments_lexer": "ipython3",
   "version": "3.13.2"
  }
 },
 "nbformat": 4,
 "nbformat_minor": 2
}
