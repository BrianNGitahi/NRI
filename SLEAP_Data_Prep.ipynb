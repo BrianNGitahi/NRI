{
 "cells": [
  {
   "cell_type": "code",
   "execution_count": null,
   "metadata": {},
   "outputs": [],
   "source": [
    "import numpy as np\n",
    "import matplotlib.pyplot as plt\n",
    "import torch\n",
    "import seaborn \n",
    "import scipy as sp\n",
    "from torch.utils.data.dataset import TensorDataset\n",
    "from torch.utils.data import DataLoader\n",
    "import torch.nn.functional as F\n",
    "from torch.autograd import Variable\n",
    "from utils import *"
   ]
  },
  {
   "cell_type": "code",
   "execution_count": null,
   "metadata": {},
   "outputs": [],
   "source": [
    "# ok so for the SLEAP data since we only had one session/sample with 2 mice, \n",
    "# to get the train,valid, test split, I took different time windows\n",
    "# this will also help us define dynamic interactions i.e the interaction matrix for the different chunks\n",
    "# might not be the same at all timesteps/frames"
   ]
  },
  {
   "cell_type": "code",
   "execution_count": 2,
   "metadata": {},
   "outputs": [
    {
     "data": {
      "text/plain": [
       "(1, 63033, 2, 2)"
      ]
     },
     "execution_count": 2,
     "metadata": {},
     "output_type": "execute_result"
    }
   ],
   "source": [
    "# load the locations and velocities\n",
    "locations = np.load('thorax_locations.npy')\n",
    "locations = np.reshape(locations, (1,63033,2,2))\n",
    "locations.shape"
   ]
  },
  {
   "cell_type": "code",
   "execution_count": 3,
   "metadata": {},
   "outputs": [
    {
     "data": {
      "text/plain": [
       "(1, 63033, 2, 2)"
      ]
     },
     "execution_count": 3,
     "metadata": {},
     "output_type": "execute_result"
    }
   ],
   "source": [
    "# load and reshape velocities\n",
    "velocities = np.load('velocities.npy')\n",
    "velocities = np.reshape(velocities, (1,63033,2,2))\n",
    "velocities.shape"
   ]
  },
  {
   "cell_type": "code",
   "execution_count": 4,
   "metadata": {},
   "outputs": [],
   "source": [
    "# split into train, valid, test\n",
    "locations_train = locations[:,:20000,:,:]\n",
    "locations_valid = locations[:,39000:45000,:,:]\n",
    "locations_test = locations[:,45000:51000,:,:]"
   ]
  },
  {
   "cell_type": "code",
   "execution_count": 5,
   "metadata": {},
   "outputs": [],
   "source": [
    "velocities_train = velocities[:,:20000,:,:]\n",
    "velocities_valid = velocities[:,39000:45000,:,:]\n",
    "velocities_test = velocities[:,45000:51000,:,:]"
   ]
  },
  {
   "cell_type": "code",
   "execution_count": null,
   "metadata": {},
   "outputs": [],
   "source": [
    "# construct the edge matrices\n",
    "\n",
    "# based on their construction, the edge interactions are symmetric,\n",
    "# i.e. they are bi-directional,if there's an interaction it goes both ways\n",
    "# this might not fully capture the interactions in live agents as sometimes an interaction\n",
    "# can be uni-directional; later we can try change this and if it changes anything\n",
    "# NB: the charged particles class allows for self-interactions "
   ]
  },
  {
   "cell_type": "code",
   "execution_count": 13,
   "metadata": {},
   "outputs": [
    {
     "name": "stdout",
     "output_type": "stream",
     "text": [
      "[[0. 1.]\n",
      " [1. 0.]]\n",
      "(2, 2)\n"
     ]
    }
   ],
   "source": [
    "# Case 1: Non-dynamic interaction matrix\n",
    "# Start with the assumption that the mice are interacting at all timesteps\n",
    "# later can repeat the same thing assuming no interaction\n",
    "\n",
    "edges_present = np.array([[0,1],[1,0]], dtype=float)\n",
    "print(edges_present)\n",
    "print(edges_present.shape)"
   ]
  },
  {
   "cell_type": "code",
   "execution_count": 14,
   "metadata": {},
   "outputs": [
    {
     "data": {
      "text/plain": [
       "(1, 2, 2)"
      ]
     },
     "execution_count": 14,
     "metadata": {},
     "output_type": "execute_result"
    }
   ],
   "source": [
    "edges_present = np.reshape(edges_present, (1,2,2))\n",
    "edges_present.shape"
   ]
  },
  {
   "cell_type": "code",
   "execution_count": 15,
   "metadata": {},
   "outputs": [],
   "source": [
    "# define train, valiudation and test data all to have interactions present\n",
    "define_edges = edges_present # use this to change to no edges later\n",
    "\n",
    "edges_train = define_edges\n",
    "edges_valid = define_edges\n",
    "edges_test = define_edges"
   ]
  },
  {
   "cell_type": "code",
   "execution_count": 19,
   "metadata": {},
   "outputs": [
    {
     "data": {
      "text/plain": [
       "(1, 2, 2)"
      ]
     },
     "execution_count": 19,
     "metadata": {},
     "output_type": "execute_result"
    }
   ],
   "source": [
    "edges_valid.shape"
   ]
  },
  {
   "cell_type": "code",
   "execution_count": 41,
   "metadata": {},
   "outputs": [
    {
     "name": "stdout",
     "output_type": "stream",
     "text": [
      "batch_ready data shape:  (200, 100, 2, 2)\n",
      "batch_ready data shape:  (60, 100, 2, 2)\n",
      "batch_ready data shape:  (60, 100, 2, 2)\n",
      "batch_ready data shape:  (200, 100, 2, 2)\n",
      "batch_ready data shape:  (60, 100, 2, 2)\n",
      "batch_ready data shape:  (60, 100, 2, 2)\n"
     ]
    }
   ],
   "source": [
    "# because of the current shape, the model might memorieze the trajectory \n",
    "# and not be able to generalize, so let's reshape it to make batches from different \n",
    "# time windows -- for now we'll only do non-overlapping but later we can do overlapping\n",
    "\n",
    "def batch_ready(data,seq_len=100):\n",
    "    formatted = np.reshape(data,(data.shape[1]//seq_len, seq_len, data.shape[2],data.shape[3]))\n",
    "    print('batch_ready data shape: ', formatted.shape)\n",
    "    return formatted\n",
    "\n",
    "# reformatting to allow for batch sizes bigger than 1\n",
    "formatted_locs_train = batch_ready(locations_train)\n",
    "formatted_locs_valid = batch_ready(locations_valid)\n",
    "formatted_locs_test = batch_ready(locations_test)\n",
    "\n",
    "formatted_vel_train = batch_ready(velocities_train)\n",
    "formatted_vel_valid = batch_ready(velocities_valid)\n",
    "formatted_vel_test = batch_ready(velocities_test)\n",
    "    "
   ]
  },
  {
   "cell_type": "code",
   "execution_count": 65,
   "metadata": {},
   "outputs": [
    {
     "name": "stdout",
     "output_type": "stream",
     "text": [
      "(200, 2, 2)\n",
      "(60, 2, 2)\n",
      "(60, 2, 2)\n"
     ]
    }
   ],
   "source": [
    "# do the same for the edges: get it in the same shape\n",
    "\n",
    "n_train = formatted_locs_train.shape[0]\n",
    "n_valid = formatted_locs_valid.shape[0]\n",
    "n_test = formatted_locs_test.shape[0]\n",
    "\n",
    "formatted_edges_train = np.broadcast_to(edges_present,(n_train,2,2)).copy()\n",
    "formatted_edges_valid = np.broadcast_to(edges_present,(n_valid,2,2)).copy()\n",
    "formatted_edges_test = np.broadcast_to(edges_present,(n_test,2,2)).copy()\n",
    "\n",
    "print(formatted_edges_train.shape)\n",
    "print(formatted_edges_valid.shape)\n",
    "print(formatted_edges_test.shape)"
   ]
  },
  {
   "cell_type": "code",
   "execution_count": null,
   "metadata": {},
   "outputs": [],
   "source": [
    "# dynamic LOAD\n"
   ]
  },
  {
   "cell_type": "code",
   "execution_count": 86,
   "metadata": {},
   "outputs": [
    {
     "name": "stdout",
     "output_type": "stream",
     "text": [
      "locations.shape at start (1, 63033, 2, 2)\n",
      "velocities.shape at start (1, 63033, 2, 2)\n",
      "edges.shape at start (1, 2, 2)\n",
      "batch_ready data shape:  (200, 100, 2, 2)\n",
      "batch_ready data shape:  (60, 100, 2, 2)\n",
      "batch_ready data shape:  (60, 100, 2, 2)\n",
      "batch_ready data shape:  (200, 100, 2, 2)\n",
      "batch_ready data shape:  (60, 100, 2, 2)\n",
      "batch_ready data shape:  (60, 100, 2, 2)\n",
      "formatted edges_train.shape (200, 2, 2)\n",
      "formatted edges_valid.shape (60, 2, 2)\n",
      "formatted edges_test.shape (60, 2, 2)\n"
     ]
    }
   ],
   "source": [
    "# made it inot a function that lives in utils\n",
    "locs_list, vel_list, edges_list = load_SLEAP()"
   ]
  },
  {
   "cell_type": "code",
   "execution_count": 90,
   "metadata": {},
   "outputs": [
    {
     "name": "stdout",
     "output_type": "stream",
     "text": [
      "locations.shape at start (1, 63033, 2, 2)\n",
      "velocities.shape at start (1, 63033, 2, 2)\n",
      "edges.shape at start (1, 2, 2)\n",
      "batch_ready data shape:  (200, 100, 2, 2)\n",
      "batch_ready data shape:  (60, 100, 2, 2)\n",
      "batch_ready data shape:  (60, 100, 2, 2)\n",
      "batch_ready data shape:  (200, 100, 2, 2)\n",
      "batch_ready data shape:  (60, 100, 2, 2)\n",
      "batch_ready data shape:  (60, 100, 2, 2)\n",
      "formatted edges_train.shape (200, 2, 2)\n",
      "formatted edges_valid.shape (60, 2, 2)\n",
      "formatted edges_test.shape (60, 2, 2)\n",
      "loc_train.shape after preprocessing:  (200, 2, 100, 2)\n",
      "vel_train.shape after preprocessing:  (200, 2, 100, 2)\n",
      "edges_train.shape after preprocessing:  torch.Size([200, 4])\n",
      "edges_train.shape after 2nd preprocessing:  torch.Size([200, 2])\n"
     ]
    }
   ],
   "source": [
    "# madde function to preprocess and load SLEAP data into the data loaders - now lives in utils!\n",
    "train_data_loader, valid_data_loader, test_data_loader, loc_max, loc_min, vel_max, vel_min = preprocess_SLEAP()"
   ]
  }
 ],
 "metadata": {
  "kernelspec": {
   "display_name": "Python 3",
   "language": "python",
   "name": "python3"
  },
  "language_info": {
   "codemirror_mode": {
    "name": "ipython",
    "version": 3
   },
   "file_extension": ".py",
   "mimetype": "text/x-python",
   "name": "python",
   "nbconvert_exporter": "python",
   "pygments_lexer": "ipython3",
   "version": "3.13.2"
  }
 },
 "nbformat": 4,
 "nbformat_minor": 2
}
